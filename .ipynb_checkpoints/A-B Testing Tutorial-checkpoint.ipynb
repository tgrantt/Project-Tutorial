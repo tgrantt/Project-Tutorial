{
 "cells": [
  {
   "cell_type": "markdown",
   "metadata": {},
   "source": [
    "# Introduction"
   ]
  },
  {
   "cell_type": "markdown",
   "metadata": {},
   "source": [
    "\n",
    "NOTE: The following is just notes for myself with not much structure. I wrote down my thoughts as I read about A/B testing.\n",
    "\n",
    "A/B Testing is a statistical process where you compare two variables to find which is most effective. You generally have a control variable and a test variable with one thing altered hence the A B testing. You compare the two results to see which is more effective. \n",
    "\n",
    "We can use statistics to confirm that the differences in A and B are statistically significant to confirm it isnt just from random chance that the results were so different. \n",
    "\n",
    "I want to use this form of testing with regressions. I want to test two different regressions that are only slightly different to see which is more effective. Im thinking of potentially doing the same regression but using different features within each instance from a certain data set. You could also use this method in which training data sets you use in regressions. You could compare two different random sets of training data and see which produces the better regression. these are just ideas for now. \n",
    "\n",
    "As I read more I'm starting to wonder how this fits in with data science. A/B testing is usually used for comparing website pages that have one thing changed like what color a button is and then comparing how interactive clients are.\n",
    "\n",
    "Useful links to read about A/B testing:\n",
    "https://medium.com/@carsonforter\n",
    "https://en.wikipedia.org/wiki/A/B_testing\n",
    "https://conversionsciences.com/ab-testing-statistics/\n",
    "\n",
    "**Introduction:**\n",
    "\n",
    "A/B testing is comparing two data sets that have come from a control and treatment variable. For example a website page. The control would be the original site and the treatment would be the new page the company wants to try. This is where the A/B comes from. You are comparing page A (original control website) to page B (new treatment website). In this testing you randomly split the users and then compare the results to show the effect of the treatment website compared to the control website in hopes that there was a positive change. We use statistics to ensure that the difference is statistically significant and not just from random chance. "
   ]
  },
  {
   "cell_type": "code",
   "execution_count": null,
   "metadata": {},
   "outputs": [],
   "source": []
  },
  {
   "cell_type": "markdown",
   "metadata": {},
   "source": [
    "**Group Project**\n",
    "\n",
    "This is just a brief beginning to our project but we got our API to work but need to clean the data. we are wanting to predict the price of tickets so we plan to gather data on the price of tickets, distance between airports and airlines for 50 different locations over 52 weeks from january 1st to december 31st and then use regressions for our analysis."
   ]
  },
  {
   "cell_type": "code",
   "execution_count": null,
   "metadata": {},
   "outputs": [],
   "source": []
  },
  {
   "cell_type": "code",
   "execution_count": null,
   "metadata": {},
   "outputs": [],
   "source": []
  }
 ],
 "metadata": {
  "kernelspec": {
   "display_name": "Python 3",
   "language": "python",
   "name": "python3"
  },
  "language_info": {
   "codemirror_mode": {
    "name": "ipython",
    "version": 3
   },
   "file_extension": ".py",
   "mimetype": "text/x-python",
   "name": "python",
   "nbconvert_exporter": "python",
   "pygments_lexer": "ipython3",
   "version": "3.7.1"
  }
 },
 "nbformat": 4,
 "nbformat_minor": 2
}
